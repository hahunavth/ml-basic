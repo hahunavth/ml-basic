{
 "cells": [
  {
   "cell_type": "code",
   "execution_count": 50,
   "id": "07cfd9b0-dd67-4474-b5df-d4c46fd66779",
   "metadata": {},
   "outputs": [],
   "source": [
    "# Handle missing data\n",
    "import pandas as pd\n",
    "import numpy as np\n",
    "from sklearn.impute import SimpleImputer\n",
    "import matplotlib.pyplot as plt\n",
    "\n",
    "# print all result (defalut is last result)\n",
    "from IPython.core.interactiveshell import InteractiveShell\n",
    "InteractiveShell.ast_node_interactivity = \"all\""
   ]
  },
  {
   "cell_type": "code",
   "execution_count": 49,
   "id": "8f08610e-bd45-4508-a397-68157117b663",
   "metadata": {},
   "outputs": [
    {
     "name": "stdout",
     "output_type": "stream",
     "text": [
      "      0   1\n",
      "0   1.0   3\n",
      "1   NaN   5\n",
      "2   8.0   9\n",
      "3  10.0  15\n"
     ]
    },
    {
     "data": {
      "text/plain": [
       "SimpleImputer()"
      ]
     },
     "execution_count": 49,
     "metadata": {},
     "output_type": "execute_result"
    },
    {
     "name": "stdout",
     "output_type": "stream",
     "text": [
      "[[ 1.  3.]\n",
      " [nan  5.]\n",
      " [ 8.  9.]\n",
      " [10. 15.]]\n",
      "[[ 1.          3.        ]\n",
      " [ 6.33333333  5.        ]\n",
      " [ 8.          9.        ]\n",
      " [10.         15.        ]]\n"
     ]
    }
   ],
   "source": [
    "# Read csv\n",
    "imputer = SimpleImputer(missing_values=np.nan, strategy=\"mean\")\n",
    "\n",
    "dataframe = pd.read_csv('libreMissingData.csv', header=None)\n",
    "print(dataframe)\n",
    "\n",
    "data = dataframe.values\n",
    "imputer.fit(data)\n",
    "result = imputer.transform(data)\n",
    "print(data)\n",
    "print(result)"
   ]
  },
  {
   "cell_type": "code",
   "execution_count": 52,
   "id": "6d662a30-a3bb-4dd0-bf54-7b22a32aaf93",
   "metadata": {},
   "outputs": [
    {
     "data": {
      "text/plain": [
       "<matplotlib.collections.PathCollection at 0x7f43b68284c0>"
      ]
     },
     "execution_count": 52,
     "metadata": {},
     "output_type": "execute_result"
    },
    {
     "data": {
      "image/png": "[encoded data removed]",
      "text/plain": [
       "<Figure size 432x288 with 1 Axes>"
      ]
     },
     "metadata": {
      "needs_background": "light"
     },
     "output_type": "display_data"
    }
   ],
   "source": [
    "# Graph\n",
    "X = result[:, 0]\n",
    "y = result[:, 1]\n",
    "plt.scatter(X, y)\n",
    "plt.show()"
   ]
  }
 ],
 "metadata": {
  "kernelspec": {
   "display_name": "Python 3",
   "language": "python",
   "name": "python3"
  },
  "language_info": {
   "codemirror_mode": {
    "name": "ipython",
    "version": 3
   },
   "file_extension": ".py",
   "mimetype": "text/x-python",
   "name": "python",
   "nbconvert_exporter": "python",
   "pygments_lexer": "ipython3",
   "version": "3.9.5"
  }
 },
 "nbformat": 4,
 "nbformat_minor": 5
}
