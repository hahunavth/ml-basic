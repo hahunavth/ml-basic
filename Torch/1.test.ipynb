{
 "cells": [
  {
   "cell_type": "code",
   "execution_count": 5,
   "id": "6ce7ebb1-cdd6-42e2-8ba5-46a2ea4986f4",
   "metadata": {},
   "outputs": [],
   "source": [
    "import torch\n",
    "from torch import nn\n",
    "from torch.utils.data import DataLoader\n",
    "from torchvision import datasets\n",
    "from torchvision.transforms import ToTensor, Lambda, Compose\n",
    "import matplotlib.pyplot as plt"
   ]
  },
  {
   "cell_type": "markdown",
   "id": "66dd1d22-7789-476e-8ffd-93f49108dba6",
   "metadata": {
    "tags": []
   },
   "source": [
    "# Down load sample data"
   ]
  },
  {
   "cell_type": "code",
   "execution_count": 6,
   "id": "687340ae-2d30-4d46-b438-aed7b96743dc",
   "metadata": {},
   "outputs": [
    {
     "name": "stdout",
     "output_type": "stream",
     "text": [
      "Downloading http://fashion-mnist.s3-website.eu-central-1.amazonaws.com/train-images-idx3-ubyte.gz\n",
      "Downloading http://fashion-mnist.s3-website.eu-central-1.amazonaws.com/train-images-idx3-ubyte.gz to data/FashionMNIST/raw/train-images-idx3-ubyte.gz\n"
     ]
    },
    {
     "data": {
      "application/vnd.jupyter.widget-view+json": {
       "model_id": "5ca74fa48bad44ba8a6c7669ed05bb10",
       "version_major": 2,
       "version_minor": 0
      },
      "text/plain": [
       "  0%|          | 0/26421880 [00:00<?, ?it/s]"
      ]
     },
     "metadata": {},
     "output_type": "display_data"
    },
    {
     "name": "stdout",
     "output_type": "stream",
     "text": [
      "Extracting data/FashionMNIST/raw/train-images-idx3-ubyte.gz to data/FashionMNIST/raw\n",
      "\n",
      "Downloading http://fashion-mnist.s3-website.eu-central-1.amazonaws.com/train-labels-idx1-ubyte.gz\n",
      "Downloading http://fashion-mnist.s3-website.eu-central-1.amazonaws.com/train-labels-idx1-ubyte.gz to data/FashionMNIST/raw/train-labels-idx1-ubyte.gz\n"
     ]
    },
    {
     "data": {
      "application/vnd.jupyter.widget-view+json": {
       "model_id": "b9c6a35222ed4242a64f717eaba26997",
       "version_major": 2,
       "version_minor": 0
      },
      "text/plain": [
       "  0%|          | 0/29515 [00:00<?, ?it/s]"
      ]
     },
     "metadata": {},
     "output_type": "display_data"
    },
    {
     "name": "stdout",
     "output_type": "stream",
     "text": [
      "Extracting data/FashionMNIST/raw/train-labels-idx1-ubyte.gz to data/FashionMNIST/raw\n",
      "\n",
      "Downloading http://fashion-mnist.s3-website.eu-central-1.amazonaws.com/t10k-images-idx3-ubyte.gz\n",
      "Downloading http://fashion-mnist.s3-website.eu-central-1.amazonaws.com/t10k-images-idx3-ubyte.gz to data/FashionMNIST/raw/t10k-images-idx3-ubyte.gz\n"
     ]
    },
    {
     "data": {
      "application/vnd.jupyter.widget-view+json": {
       "model_id": "da651039daf34c18ab5d8227a687463e",
       "version_major": 2,
       "version_minor": 0
      },
      "text/plain": [
       "  0%|          | 0/4422102 [00:00<?, ?it/s]"
      ]
     },
     "metadata": {},
     "output_type": "display_data"
    },
    {
     "name": "stdout",
     "output_type": "stream",
     "text": [
      "Extracting data/FashionMNIST/raw/t10k-images-idx3-ubyte.gz to data/FashionMNIST/raw\n",
      "\n",
      "Downloading http://fashion-mnist.s3-website.eu-central-1.amazonaws.com/t10k-labels-idx1-ubyte.gz\n",
      "Downloading http://fashion-mnist.s3-website.eu-central-1.amazonaws.com/t10k-labels-idx1-ubyte.gz to data/FashionMNIST/raw/t10k-labels-idx1-ubyte.gz\n"
     ]
    },
    {
     "data": {
      "application/vnd.jupyter.widget-view+json": {
       "model_id": "203caadc33484766b638d75e3157e20d",
       "version_major": 2,
       "version_minor": 0
      },
      "text/plain": [
       "  0%|          | 0/5148 [00:00<?, ?it/s]"
      ]
     },
     "metadata": {},
     "output_type": "display_data"
    },
    {
     "name": "stdout",
     "output_type": "stream",
     "text": [
      "Extracting data/FashionMNIST/raw/t10k-labels-idx1-ubyte.gz to data/FashionMNIST/raw\n",
      "\n"
     ]
    }
   ],
   "source": [
    "# Download training data from open datasets.\n",
    "training_data = datasets.FashionMNIST(\n",
    "    root=\"data\",\n",
    "    train=True,\n",
    "    download=True,\n",
    "    transform=ToTensor(),\n",
    ")\n",
    "\n",
    "# Download test data from open datasets.\n",
    "test_data = datasets.FashionMNIST(\n",
    "    root=\"data\",\n",
    "    train=False,\n",
    "    download=True,\n",
    "    transform=ToTensor(),\n",
    ")\n"
   ]
  },
  {
   "cell_type": "code",
   "execution_count": 12,
   "id": "309b59cd-5345-4bcf-9ee7-77488c7bac1c",
   "metadata": {},
   "outputs": [
    {
     "name": "stdout",
     "output_type": "stream",
     "text": [
      "Shape of X [N, C, H, W]:  torch.Size([64, 1, 28, 28])\n",
      "Shape of y:  torch.Size([64]) torch.int64\n"
     ]
    }
   ],
   "source": [
    "batch_size = 64\n",
    "\n",
    "train_dataloader = DataLoader(training_data, batch_size)\n",
    "test_dataloader = DataLoader(test_data, batch_size)\n",
    "\n",
    "for X, y in test_dataloader:\n",
    "    print(\"Shape of X [N, C, H, W]: \", X.shape)\n",
    "    print(\"Shape of y: \", y.shape, y.dtype)\n",
    "    break"
   ]
  },
  {
   "cell_type": "markdown",
   "id": "e6d41614-5fa7-4eb3-b57f-9b6ff3b389a7",
   "metadata": {},
   "source": [
    "# Creating Model"
   ]
  },
  {
   "cell_type": "code",
   "execution_count": 23,
   "id": "dff8100e-0d9a-4572-9f67-8d12ff3e7b2f",
   "metadata": {},
   "outputs": [
    {
     "name": "stdout",
     "output_type": "stream",
     "text": [
      "Using cpu device\n",
      "NeuralNetwork(\n",
      "  (flatten): Flatten(start_dim=1, end_dim=-1)\n",
      "  (linear_relu_stack): Sequential(\n",
      "    (0): Linear(in_features=784, out_features=512, bias=True)\n",
      "    (1): ReLU()\n",
      "    (2): Linear(in_features=512, out_features=512, bias=True)\n",
      "    (3): ReLU()\n",
      "    (4): Linear(in_features=512, out_features=10, bias=True)\n",
      "  )\n",
      ")\n"
     ]
    }
   ],
   "source": [
    "# Get cpu or gpu device for training.\n",
    "device = \"cuda\" if torch.cuda.is_available() else \"cpu\"\n",
    "print(f\"Using {device} device\")\n",
    "\n",
    "\n",
    "# Define model\n",
    "class NeuralNetwork(nn.Module):\n",
    "    def __init__(self):\n",
    "        super(NeuralNetwork, self).__init__()\n",
    "        self.flatten = nn.Flatten()\n",
    "        self.linear_relu_stack = nn.Sequential(\n",
    "            nn.Linear(28*28, 512),\n",
    "            nn.ReLU(),\n",
    "            nn.Linear(512, 512),\n",
    "            nn.ReLU(),\n",
    "            nn.Linear(512, 10)\n",
    "        )\n",
    "\n",
    "    def forward(self, x):\n",
    "        x = self.flatten(x)\n",
    "        logits = self.linear_relu_stack(x)\n",
    "        return logits\n",
    "\n",
    "model = NeuralNetwork().to(device)\n",
    "print(model)\n"
   ]
  },
  {
   "cell_type": "markdown",
   "id": "079a2508-864d-433e-98ce-14318979c670",
   "metadata": {},
   "source": [
    "# Optimize"
   ]
  },
  {
   "cell_type": "code",
   "execution_count": 24,
   "id": "a095db3d-81a2-4d2e-a7cc-9b8153d681ae",
   "metadata": {},
   "outputs": [],
   "source": [
    "loss_fn = nn.CrossEntropyLoss()\n",
    "optimizer = torch.optim.SGD(model.parameters(), lr=1e-3)"
   ]
  },
  {
   "cell_type": "code",
   "execution_count": 25,
   "id": "1259a08c-9fa4-41f1-baed-93ca7cd53dcb",
   "metadata": {},
   "outputs": [],
   "source": [
    "def train(dataloader, model, loss_fn, optimizer):\n",
    "    size = len(dataloader.dataset)\n",
    "    model.train()\n",
    "    for batch, (X, y) in enumerate(dataloader):\n",
    "        X, y = X.to(device), y.to(device)\n",
    "\n",
    "        # Compute prediction error\n",
    "        pred = model(X)\n",
    "        loss = loss_fn(pred, y)\n",
    "\n",
    "        # Backpropagation\n",
    "        optimizer.zero_grad()\n",
    "        loss.backward()\n",
    "        optimizer.step()\n",
    "\n",
    "        if batch % 100 == 0:\n",
    "            loss, current = loss.item(), batch * len(X)\n",
    "            print(f\"loss: {loss:>7f}  [{current:>5d}/{size:>5d}]\")"
   ]
  },
  {
   "cell_type": "code",
   "execution_count": 30,
   "id": "4073e65e-0a2e-45aa-a425-37ad1a743cc5",
   "metadata": {},
   "outputs": [],
   "source": [
    "def test(dataloader, model, loss_fn):\n",
    "    size = len(dataloader.dataset)\n",
    "    num_batches = len(dataloader)\n",
    "    model.eval()\n",
    "    test_loss, correct = 0, 0\n",
    "    with torch.no_grad():\n",
    "        for X, y in dataloader:\n",
    "            X, y = X.to(device), y.to(device)\n",
    "            pred = model(X)\n",
    "            test_loss += loss_fn(pred, y).item()\n",
    "            correct += (pred.argmax(1) == y).type(torch.float).sum().item()\n",
    "    test_loss /= num_batches\n",
    "    correct /= size\n",
    "    print(f\"Test Error: \\n Accuracy: {(100*correct):>0.1f}%, Avg loss: {test_loss:>8f} \\n\")"
   ]
  },
  {
   "cell_type": "code",
   "execution_count": 32,
   "id": "323fb0f3-68c5-41bd-866e-9e3c7ab197bf",
   "metadata": {},
   "outputs": [
    {
     "name": "stdout",
     "output_type": "stream",
     "text": [
      "Epoch 1\n",
      "-------------------------------\n",
      "loss: 0.794736  [    0/60000]\n",
      "loss: 0.868957  [ 6400/60000]\n",
      "loss: 0.634332  [12800/60000]\n",
      "loss: 0.846305  [19200/60000]\n",
      "loss: 0.742276  [25600/60000]\n",
      "loss: 0.734569  [32000/60000]\n",
      "loss: 0.826947  [38400/60000]\n",
      "loss: 0.795539  [44800/60000]\n",
      "loss: 0.796641  [51200/60000]\n",
      "loss: 0.767896  [57600/60000]\n",
      "Test Error: \n",
      " Accuracy: 72.2%, Avg loss: 0.760880 \n",
      "\n",
      "Epoch 2\n",
      "-------------------------------\n",
      "loss: 0.755814  [    0/60000]\n",
      "loss: 0.837303  [ 6400/60000]\n",
      "loss: 0.601615  [12800/60000]\n",
      "loss: 0.820333  [19200/60000]\n",
      "loss: 0.720507  [25600/60000]\n",
      "loss: 0.708155  [32000/60000]\n",
      "loss: 0.801935  [38400/60000]\n",
      "loss: 0.778394  [44800/60000]\n",
      "loss: 0.773934  [51200/60000]\n",
      "loss: 0.745159  [57600/60000]\n",
      "Test Error: \n",
      " Accuracy: 73.3%, Avg loss: 0.737923 \n",
      "\n",
      "Epoch 3\n",
      "-------------------------------\n",
      "loss: 0.722174  [    0/60000]\n",
      "loss: 0.808828  [ 6400/60000]\n",
      "loss: 0.573970  [12800/60000]\n",
      "loss: 0.798339  [19200/60000]\n",
      "loss: 0.701721  [25600/60000]\n",
      "loss: 0.686654  [32000/60000]\n",
      "loss: 0.778709  [38400/60000]\n",
      "loss: 0.763541  [44800/60000]\n",
      "loss: 0.754734  [51200/60000]\n",
      "loss: 0.724508  [57600/60000]\n",
      "Test Error: \n",
      " Accuracy: 74.5%, Avg loss: 0.717619 \n",
      "\n",
      "Epoch 4\n",
      "-------------------------------\n",
      "loss: 0.692502  [    0/60000]\n",
      "loss: 0.782784  [ 6400/60000]\n",
      "loss: 0.549962  [12800/60000]\n",
      "loss: 0.779372  [19200/60000]\n",
      "loss: 0.685294  [25600/60000]\n",
      "loss: 0.668814  [32000/60000]\n",
      "loss: 0.757015  [38400/60000]\n",
      "loss: 0.750260  [44800/60000]\n",
      "loss: 0.737983  [51200/60000]\n",
      "loss: 0.705567  [57600/60000]\n",
      "Test Error: \n",
      " Accuracy: 75.3%, Avg loss: 0.699323 \n",
      "\n",
      "Epoch 5\n",
      "-------------------------------\n",
      "loss: 0.666057  [    0/60000]\n",
      "loss: 0.758816  [ 6400/60000]\n",
      "loss: 0.528979  [12800/60000]\n",
      "loss: 0.762710  [19200/60000]\n",
      "loss: 0.670709  [25600/60000]\n",
      "loss: 0.653825  [32000/60000]\n",
      "loss: 0.736675  [38400/60000]\n",
      "loss: 0.738233  [44800/60000]\n",
      "loss: 0.723283  [51200/60000]\n",
      "loss: 0.687974  [57600/60000]\n",
      "Test Error: \n",
      " Accuracy: 76.0%, Avg loss: 0.682644 \n",
      "\n",
      "Epoch 6\n",
      "-------------------------------\n",
      "loss: 0.642198  [    0/60000]\n",
      "loss: 0.736689  [ 6400/60000]\n",
      "loss: 0.510417  [12800/60000]\n",
      "loss: 0.747834  [19200/60000]\n",
      "loss: 0.657770  [25600/60000]\n",
      "loss: 0.640986  [32000/60000]\n",
      "loss: 0.717514  [38400/60000]\n",
      "loss: 0.727261  [44800/60000]\n",
      "loss: 0.710321  [51200/60000]\n",
      "loss: 0.671567  [57600/60000]\n",
      "Test Error: \n",
      " Accuracy: 76.8%, Avg loss: 0.667344 \n",
      "\n",
      "Epoch 7\n",
      "-------------------------------\n",
      "loss: 0.620662  [    0/60000]\n",
      "loss: 0.716312  [ 6400/60000]\n",
      "loss: 0.493798  [12800/60000]\n",
      "loss: 0.734179  [19200/60000]\n",
      "loss: 0.646231  [25600/60000]\n",
      "loss: 0.629929  [32000/60000]\n",
      "loss: 0.699499  [38400/60000]\n",
      "loss: 0.717305  [44800/60000]\n",
      "loss: 0.698782  [51200/60000]\n",
      "loss: 0.656223  [57600/60000]\n",
      "Test Error: \n",
      " Accuracy: 77.4%, Avg loss: 0.653273 \n",
      "\n",
      "Epoch 8\n",
      "-------------------------------\n",
      "loss: 0.601042  [    0/60000]\n",
      "loss: 0.697670  [ 6400/60000]\n",
      "loss: 0.478991  [12800/60000]\n",
      "loss: 0.721592  [19200/60000]\n",
      "loss: 0.636006  [25600/60000]\n",
      "loss: 0.620322  [32000/60000]\n",
      "loss: 0.682541  [38400/60000]\n",
      "loss: 0.708402  [44800/60000]\n",
      "loss: 0.688571  [51200/60000]\n",
      "loss: 0.641885  [57600/60000]\n",
      "Test Error: \n",
      " Accuracy: 77.9%, Avg loss: 0.640321 \n",
      "\n",
      "Epoch 9\n",
      "-------------------------------\n",
      "loss: 0.583168  [    0/60000]\n",
      "loss: 0.680657  [ 6400/60000]\n",
      "loss: 0.465719  [12800/60000]\n",
      "loss: 0.709890  [19200/60000]\n",
      "loss: 0.626838  [25600/60000]\n",
      "loss: 0.611815  [32000/60000]\n",
      "loss: 0.666686  [38400/60000]\n",
      "loss: 0.700557  [44800/60000]\n",
      "loss: 0.679689  [51200/60000]\n",
      "loss: 0.628447  [57600/60000]\n",
      "Test Error: \n",
      " Accuracy: 78.3%, Avg loss: 0.628397 \n",
      "\n",
      "Epoch 10\n",
      "-------------------------------\n",
      "loss: 0.566800  [    0/60000]\n",
      "loss: 0.664999  [ 6400/60000]\n",
      "loss: 0.453682  [12800/60000]\n",
      "loss: 0.699066  [19200/60000]\n",
      "loss: 0.618505  [25600/60000]\n",
      "loss: 0.604243  [32000/60000]\n",
      "loss: 0.651956  [38400/60000]\n",
      "loss: 0.693732  [44800/60000]\n",
      "loss: 0.672077  [51200/60000]\n",
      "loss: 0.615844  [57600/60000]\n",
      "Test Error: \n",
      " Accuracy: 78.7%, Avg loss: 0.617428 \n",
      "\n",
      "Done!\n"
     ]
    }
   ],
   "source": [
    "epochs = 10\n",
    "for t in range(epochs):\n",
    "    print(f\"Epoch {t+1}\\n-------------------------------\")\n",
    "    train(train_dataloader, model, loss_fn, optimizer)\n",
    "    test(test_dataloader, model, loss_fn)\n",
    "print(\"Done!\")"
   ]
  },
  {
   "cell_type": "markdown",
   "id": "6cd2414d-b5aa-4f48-8216-5418ea240bfd",
   "metadata": {},
   "source": [
    "# Saving model"
   ]
  },
  {
   "cell_type": "code",
   "execution_count": 29,
   "id": "1e72c99d-0abd-4c17-bcca-b7ee935a71b0",
   "metadata": {},
   "outputs": [
    {
     "name": "stdout",
     "output_type": "stream",
     "text": [
      "Saved PyTorch Model State to model.pth\n"
     ]
    }
   ],
   "source": [
    "torch.save(model.state_dict(), \"model.pth\")\n",
    "print(\"Saved PyTorch Model State to model.pth\")"
   ]
  },
  {
   "cell_type": "markdown",
   "id": "79e099dd-dcce-4380-a4d8-2d0312281fd4",
   "metadata": {},
   "source": [
    "# Loading model"
   ]
  },
  {
   "cell_type": "code",
   "execution_count": 33,
   "id": "d69e42e8-2240-4f8d-bcc7-ec1a4f0b7f83",
   "metadata": {},
   "outputs": [
    {
     "data": {
      "text/plain": [
       "<All keys matched successfully>"
      ]
     },
     "execution_count": 33,
     "metadata": {},
     "output_type": "execute_result"
    }
   ],
   "source": [
    "model = NeuralNetwork()\n",
    "model.load_state_dict(torch.load(\"model.pth\"))"
   ]
  },
  {
   "cell_type": "markdown",
   "id": "aee3cd88-eb4b-49c7-affc-8cbdeb07ba7d",
   "metadata": {},
   "source": [
    "# Predict"
   ]
  },
  {
   "cell_type": "code",
   "execution_count": 95,
   "id": "898bf983-5396-4940-9a48-1e0ed929bdbe",
   "metadata": {},
   "outputs": [
    {
     "name": "stdout",
     "output_type": "stream",
     "text": [
      "Predicted: \"Ankle boot\", Actual: \"Ankle boot\"\n",
      "Predicted: \"Pullover\", Actual: \"Pullover\"\n",
      "Predicted: \"Trouser\", Actual: \"Trouser\"\n",
      "Predicted: \"Trouser\", Actual: \"Trouser\"\n",
      "Predicted: \"Shirt\", Actual: \"Shirt\"\n",
      "Predicted: \"Trouser\", Actual: \"Trouser\"\n",
      "Predicted: \"Coat\", Actual: \"Coat\"\n",
      "Predicted: \"Coat\", Actual: \"Shirt\"\n",
      "Predicted: \"Sneaker\", Actual: \"Sandal\"\n",
      "Predicted: \"Sneaker\", Actual: \"Sneaker\"\n",
      "Predicted: \"Pullover\", Actual: \"Coat\"\n",
      "Predicted: \"Ankle boot\", Actual: \"Sandal\"\n",
      "Predicted: \"Sneaker\", Actual: \"Sneaker\"\n",
      "Predicted: \"Dress\", Actual: \"Dress\"\n",
      "Predicted: \"Coat\", Actual: \"Coat\"\n",
      "Predicted: \"Trouser\", Actual: \"Trouser\"\n",
      "Predicted: \"Pullover\", Actual: \"Pullover\"\n",
      "Predicted: \"Pullover\", Actual: \"Coat\"\n",
      "Predicted: \"Bag\", Actual: \"Bag\"\n",
      "Predicted: \"T-shirt/top\", Actual: \"T-shirt/top\"\n",
      "Predicted: \"Shirt\", Actual: \"Pullover\"\n",
      "Predicted: \"Sneaker\", Actual: \"Sandal\"\n",
      "Predicted: \"Sneaker\", Actual: \"Sneaker\"\n",
      "Predicted: \"Sneaker\", Actual: \"Ankle boot\"\n",
      "Predicted: \"Trouser\", Actual: \"Trouser\"\n",
      "Predicted: \"Pullover\", Actual: \"Coat\"\n",
      "Predicted: \"Coat\", Actual: \"Shirt\"\n",
      "Predicted: \"Dress\", Actual: \"T-shirt/top\"\n",
      "Predicted: \"Ankle boot\", Actual: \"Ankle boot\"\n",
      "Predicted: \"T-shirt/top\", Actual: \"Dress\"\n",
      "Predicted: \"Bag\", Actual: \"Bag\"\n",
      "Predicted: \"Bag\", Actual: \"Bag\"\n",
      "Predicted: \"Dress\", Actual: \"Dress\"\n",
      "Predicted: \"Dress\", Actual: \"Dress\"\n",
      "Predicted: \"Bag\", Actual: \"Bag\"\n",
      "Predicted: \"T-shirt/top\", Actual: \"T-shirt/top\"\n",
      "Predicted: \"Sneaker\", Actual: \"Sneaker\"\n",
      "Predicted: \"Sneaker\", Actual: \"Sandal\"\n",
      "Predicted: \"Sneaker\", Actual: \"Sneaker\"\n",
      "Predicted: \"Ankle boot\", Actual: \"Ankle boot\"\n",
      "Predicted: \"T-shirt/top\", Actual: \"Shirt\"\n",
      "Predicted: \"Trouser\", Actual: \"Trouser\"\n",
      "Predicted: \"T-shirt/top\", Actual: \"Dress\"\n",
      "Predicted: \"Ankle boot\", Actual: \"Sneaker\"\n",
      "Predicted: \"Coat\", Actual: \"Shirt\"\n",
      "Predicted: \"Ankle boot\", Actual: \"Sneaker\"\n",
      "Predicted: \"Pullover\", Actual: \"Pullover\"\n",
      "Predicted: \"Trouser\", Actual: \"Trouser\"\n",
      "Predicted: \"Coat\", Actual: \"Pullover\"\n",
      "Predicted: \"Pullover\", Actual: \"Pullover\"\n",
      "Predicted: \"Pullover\", Actual: \"Coat\"\n",
      "Predicted: \"Pullover\", Actual: \"Coat\"\n",
      "Predicted: \"Sneaker\", Actual: \"Sandal\"\n",
      "Predicted: \"Pullover\", Actual: \"Bag\"\n",
      "Predicted: \"Coat\", Actual: \"Pullover\"\n",
      "Predicted: \"Pullover\", Actual: \"Pullover\"\n",
      "Predicted: \"Bag\", Actual: \"Bag\"\n",
      "Predicted: \"Coat\", Actual: \"Coat\"\n",
      "Predicted: \"Bag\", Actual: \"Bag\"\n",
      "Predicted: \"T-shirt/top\", Actual: \"T-shirt/top\"\n",
      "Predicted: \"Sneaker\", Actual: \"Sneaker\"\n",
      "Predicted: \"Sneaker\", Actual: \"Sneaker\"\n",
      "Predicted: \"Bag\", Actual: \"Bag\"\n",
      "Predicted: \"Sneaker\", Actual: \"Sandal\"\n",
      "Predicted: \"Trouser\", Actual: \"Trouser\"\n",
      "Predicted: \"Trouser\", Actual: \"Trouser\"\n",
      "Predicted: \"Dress\", Actual: \"Pullover\"\n",
      "Predicted: \"Dress\", Actual: \"Dress\"\n",
      "Predicted: \"Sneaker\", Actual: \"Ankle boot\"\n",
      "Predicted: \"Bag\", Actual: \"Bag\"\n",
      "Predicted: \"Sneaker\", Actual: \"Sneaker\"\n",
      "Predicted: \"T-shirt/top\", Actual: \"T-shirt/top\"\n",
      "Predicted: \"Pullover\", Actual: \"Pullover\"\n",
      "Predicted: \"T-shirt/top\", Actual: \"Shirt\"\n",
      "Predicted: \"Coat\", Actual: \"Pullover\"\n",
      "Predicted: \"Dress\", Actual: \"Dress\"\n",
      "Predicted: \"Trouser\", Actual: \"Trouser\"\n",
      "Predicted: \"Pullover\", Actual: \"Pullover\"\n",
      "Predicted: \"Bag\", Actual: \"Bag\"\n",
      "Predicted: \"Pullover\", Actual: \"Coat\"\n",
      "Predicted: \"Trouser\", Actual: \"Trouser\"\n",
      "Predicted: \"Bag\", Actual: \"Bag\"\n",
      "Predicted: \"Ankle boot\", Actual: \"Sandal\"\n",
      "Predicted: \"Ankle boot\", Actual: \"Ankle boot\"\n",
      "Predicted: \"Sneaker\", Actual: \"Sandal\"\n",
      "Predicted: \"T-shirt/top\", Actual: \"T-shirt/top\"\n",
      "Predicted: \"Dress\", Actual: \"Dress\"\n",
      "Predicted: \"Coat\", Actual: \"Pullover\"\n",
      "Predicted: \"T-shirt/top\", Actual: \"T-shirt/top\"\n",
      "Predicted: \"Pullover\", Actual: \"Shirt\"\n",
      "Predicted: \"Sneaker\", Actual: \"Sandal\"\n",
      "Predicted: \"Dress\", Actual: \"Dress\"\n",
      "Predicted: \"Coat\", Actual: \"Shirt\"\n",
      "Predicted: \"Sneaker\", Actual: \"Sneaker\"\n",
      "Predicted: \"Trouser\", Actual: \"Trouser\"\n",
      "Predicted: \"Bag\", Actual: \"Bag\"\n",
      "Predicted: \"T-shirt/top\", Actual: \"T-shirt/top\"\n",
      "Predicted: \"Trouser\", Actual: \"Trouser\"\n",
      "Predicted: \"Pullover\", Actual: \"Coat\"\n",
      "Predicted: \"Pullover\", Actual: \"Pullover\"\n"
     ]
    }
   ],
   "source": [
    "classes = [\n",
    "    \"T-shirt/top\",\n",
    "    \"Trouser\",\n",
    "    \"Pullover\",\n",
    "    \"Dress\",\n",
    "    \"Coat\",\n",
    "    \"Sandal\",\n",
    "    \"Shirt\",\n",
    "    \"Sneaker\",\n",
    "    \"Bag\",\n",
    "    \"Ankle boot\",\n",
    "]\n",
    "\n",
    "for i in range(100):\n",
    "    model.eval()\n",
    "    x, y = test_data[i][0], test_data[i][1]\n",
    "    with torch.no_grad():\n",
    "        pred = model(x)\n",
    "        predicted, actual = classes[pred[0].argmax(0)], classes[y]\n",
    "        print(f'Predicted: \"{predicted}\", Actual: \"{actual}\"')\n"
   ]
  }
 ],
 "metadata": {
  "kernelspec": {
   "display_name": "Python 3 (ipykernel)",
   "language": "python",
   "name": "python3"
  },
  "language_info": {
   "codemirror_mode": {
    "name": "ipython",
    "version": 3
   },
   "file_extension": ".py",
   "mimetype": "text/x-python",
   "name": "python",
   "nbconvert_exporter": "python",
   "pygments_lexer": "ipython3",
   "version": "3.9.7"
  }
 },
 "nbformat": 4,
 "nbformat_minor": 5
}
