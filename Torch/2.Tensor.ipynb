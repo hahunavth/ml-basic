{
 "cells": [
  {
   "cell_type": "code",
   "execution_count": 1,
   "id": "2ff8ca46-f105-475a-9658-a41a72063f04",
   "metadata": {},
   "outputs": [],
   "source": [
    "import torch\n",
    "import numpy as np"
   ]
  },
  {
   "cell_type": "code",
   "execution_count": 2,
   "id": "dc4a37aa-b5fb-401e-bee1-2c1e43170458",
   "metadata": {},
   "outputs": [
    {
     "data": {
      "text/plain": [
       "tensor([[1, 2],\n",
       "        [3, 4]])"
      ]
     },
     "execution_count": 2,
     "metadata": {},
     "output_type": "execute_result"
    }
   ],
   "source": [
    "# Create tensor\n",
    "data = [[1, 2],[3, 4]]\n",
    "x_data = torch.tensor(data)\n",
    "x_data"
   ]
  },
  {
   "cell_type": "code",
   "execution_count": 6,
   "id": "8e71fff4-4c2e-484f-aa8f-34d44b558f61",
   "metadata": {},
   "outputs": [
    {
     "data": {
      "text/plain": [
       "tensor([[1, 2],\n",
       "        [3, 4]])"
      ]
     },
     "execution_count": 6,
     "metadata": {},
     "output_type": "execute_result"
    }
   ],
   "source": [
    "# Create tensor from np.array\n",
    "np_array = np.array(data)\n",
    "x_np = torch.tensor(np_array)\n",
    "x_np"
   ]
  },
  {
   "cell_type": "code",
   "execution_count": 11,
   "id": "5359c70f-d84e-45d4-b83b-4e7b3f7273de",
   "metadata": {},
   "outputs": [
    {
     "name": "stdout",
     "output_type": "stream",
     "text": [
      "tensor([[1, 1],\n",
      "        [1, 1]])\n"
     ]
    },
    {
     "data": {
      "text/plain": [
       "tensor([[0.7669, 0.8848],\n",
       "        [0.9832, 0.5702]])"
      ]
     },
     "execution_count": 11,
     "metadata": {},
     "output_type": "execute_result"
    }
   ],
   "source": [
    "# Create tensor from another tensor\n",
    "x_one = torch.ones_like(x_data)\n",
    "print(x_one)\n",
    "x_rand = torch.rand_like(x_data, dtype=torch.float)\n",
    "x_rand"
   ]
  },
  {
   "cell_type": "code",
   "execution_count": 15,
   "id": "56e73843-77ca-40a1-8009-36a1b8dadbc9",
   "metadata": {},
   "outputs": [
    {
     "name": "stdout",
     "output_type": "stream",
     "text": [
      "Random Tensor: \n",
      " tensor([[0.5782, 0.8737, 0.4343],\n",
      "        [0.9874, 0.0680, 0.2010]]) \n",
      "\n",
      "Ones Tensor: \n",
      " tensor([[1., 1., 1.],\n",
      "        [1., 1., 1.]]) \n",
      "\n",
      "Zeros Tensor: \n",
      " tensor([[0., 0., 0.],\n",
      "        [0., 0., 0.]])\n"
     ]
    }
   ],
   "source": [
    "# With random or constant values:\n",
    "\n",
    "shape = (2, 3,)\n",
    "shape\n",
    "\n",
    "rand_tensor = torch.rand(shape)\n",
    "ones_tensor = torch.ones(shape)\n",
    "zeros_tensor = torch.zeros(shape)\n",
    "\n",
    "print(f\"Random Tensor: \\n {rand_tensor} \\n\")\n",
    "print(f\"Ones Tensor: \\n {ones_tensor} \\n\")\n",
    "print(f\"Zeros Tensor: \\n {zeros_tensor}\")"
   ]
  },
  {
   "cell_type": "code",
   "execution_count": 20,
   "id": "ca48f1e2-af4d-4097-a952-47426b0ff4b5",
   "metadata": {},
   "outputs": [
    {
     "data": {
      "text/plain": [
       "device(type='cpu')"
      ]
     },
     "execution_count": 20,
     "metadata": {},
     "output_type": "execute_result"
    }
   ],
   "source": [
    "# Attribute\n",
    "\n",
    "rand_tensor.dtype\n",
    "rand_tensor.shape\n",
    "rand_tensor.device"
   ]
  },
  {
   "cell_type": "code",
   "execution_count": 21,
   "id": "8219c989-2193-4ea7-9b8c-663d96543d49",
   "metadata": {},
   "outputs": [],
   "source": [
    "# We move our tensor to the GPU if available\n",
    "if torch.cuda.is_available():\n",
    "    tensor = tensor.to('cuda')"
   ]
  },
  {
   "cell_type": "code",
   "execution_count": 41,
   "id": "ff04049c-8246-45e3-9721-64eef0168de5",
   "metadata": {},
   "outputs": [
    {
     "name": "stdout",
     "output_type": "stream",
     "text": [
      "tensor([[1., 0., 1., 2.],\n",
      "        [1., 0., 1., 2.],\n",
      "        [1., 0., 1., 2.],\n",
      "        [1., 0., 1., 2.]])\n"
     ]
    }
   ],
   "source": [
    "# Index and slicing\n",
    "\n",
    "tensor = torch.ones(4, 4)\n",
    "tensor[:, 1] = 0\n",
    "tensor[..., -1] = 2\n",
    "print(tensor)"
   ]
  },
  {
   "cell_type": "code",
   "execution_count": 51,
   "id": "13e10555-0adb-494b-aa21-2f5439b1dfec",
   "metadata": {},
   "outputs": [
    {
     "name": "stdout",
     "output_type": "stream",
     "text": [
      "tensor([[1., 0., 1., 2.],\n",
      "        [1., 0., 1., 2.],\n",
      "        [1., 0., 1., 2.],\n",
      "        [1., 0., 1., 2.],\n",
      "        [1., 0., 1., 2.],\n",
      "        [1., 0., 1., 2.],\n",
      "        [1., 0., 1., 2.],\n",
      "        [1., 0., 1., 2.],\n",
      "        [1., 0., 1., 2.],\n",
      "        [1., 0., 1., 2.],\n",
      "        [1., 0., 1., 2.],\n",
      "        [1., 0., 1., 2.]])\n"
     ]
    }
   ],
   "source": [
    "# Join tensor\n",
    "\n",
    "t1 = torch.cat([tensor, tensor, tensor], dim=-2)\n",
    "print(t1)"
   ]
  },
  {
   "cell_type": "code",
   "execution_count": 58,
   "id": "a9c2987c-43b9-42ee-b1fe-5de9a7983d69",
   "metadata": {},
   "outputs": [
    {
     "data": {
      "text/plain": [
       "tensor([[1., 0., 1., 4.],\n",
       "        [1., 0., 1., 4.],\n",
       "        [1., 0., 1., 4.],\n",
       "        [1., 0., 1., 4.]])"
      ]
     },
     "execution_count": 58,
     "metadata": {},
     "output_type": "execute_result"
    }
   ],
   "source": [
    "# Arithmetic operations\n",
    "\n",
    "# This computes the matrix multiplication between two tensors. y1, y2, y3 will have the same value\n",
    "y1 = tensor @ tensor.T\n",
    "y2 = tensor.matmul(tensor.T)\n",
    "\n",
    "y3 = torch.rand_like(tensor)\n",
    "torch.matmul(tensor, tensor.T, out=y3)\n",
    "\n",
    "\n",
    "# This computes the element-wise product. z1, z2, z3 will have the same value\n",
    "z1 = tensor * tensor\n",
    "z2 = tensor.mul(tensor)\n",
    "\n",
    "z3 = torch.rand_like(tensor)\n",
    "torch.mul(tensor, tensor, out=z3)"
   ]
  },
  {
   "cell_type": "code",
   "execution_count": 59,
   "id": "0d8fc077-4c18-4d93-9e5f-4325d6112a83",
   "metadata": {},
   "outputs": [
    {
     "name": "stdout",
     "output_type": "stream",
     "text": [
      "16.0 <class 'float'>\n"
     ]
    }
   ],
   "source": [
    "# Single-element tensor\n",
    "\n",
    "agg = tensor.sum()\n",
    "agg_item = agg.item()\n",
    "print(agg_item, type(agg_item))"
   ]
  },
  {
   "cell_type": "code",
   "execution_count": 60,
   "id": "63cf4c81-2dc3-401c-980b-06cfb62aa38b",
   "metadata": {},
   "outputs": [
    {
     "data": {
      "text/plain": [
       "tensor([[6., 5., 6., 7.],\n",
       "        [6., 5., 6., 7.],\n",
       "        [6., 5., 6., 7.],\n",
       "        [6., 5., 6., 7.]])"
      ]
     },
     "execution_count": 60,
     "metadata": {},
     "output_type": "execute_result"
    }
   ],
   "source": [
    "# In-place operations (has suffix _ )\n",
    "\n",
    "tensor.add_(5)\n",
    "tensor\n"
   ]
  },
  {
   "cell_type": "code",
   "execution_count": 63,
   "id": "584a3479-8bae-4170-ac33-0b2bdd94b07b",
   "metadata": {},
   "outputs": [
    {
     "name": "stdout",
     "output_type": "stream",
     "text": [
      "t: tensor([[7., 6., 7., 8.],\n",
      "        [7., 6., 7., 8.],\n",
      "        [7., 6., 7., 8.],\n",
      "        [7., 6., 7., 8.]])\n",
      "n: [[7. 6. 7. 8.]\n",
      " [7. 6. 7. 8.]\n",
      " [7. 6. 7. 8.]\n",
      " [7. 6. 7. 8.]]\n"
     ]
    }
   ],
   "source": [
    "# Tensor to np.array\n",
    "n = tensor.numpy()\n",
    "\n",
    "tensor.add_(1)\n",
    "print(f\"t: {tensor}\")\n",
    "print(f\"n: {n}\")\n"
   ]
  }
 ],
 "metadata": {
  "kernelspec": {
   "display_name": "Python 3 (ipykernel)",
   "language": "python",
   "name": "python3"
  },
  "language_info": {
   "codemirror_mode": {
    "name": "ipython",
    "version": 3
   },
   "file_extension": ".py",
   "mimetype": "text/x-python",
   "name": "python",
   "nbconvert_exporter": "python",
   "pygments_lexer": "ipython3",
   "version": "3.9.7"
  }
 },
 "nbformat": 4,
 "nbformat_minor": 5
}
