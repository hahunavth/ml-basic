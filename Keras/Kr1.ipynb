{
 "cells": [
  {
   "cell_type": "code",
   "execution_count": 21,
   "id": "6569677d-8e57-49c6-964b-cdaff702b158",
   "metadata": {},
   "outputs": [],
   "source": [
    "# import keras\n",
    "from tensorflow import keras\n",
    "import numpy as np\n",
    "from sklearn.model_selection import train_test_split"
   ]
  },
  {
   "cell_type": "code",
   "execution_count": 28,
   "id": "7c07065c-57c7-44b7-bcb7-e07474a10fd0",
   "metadata": {},
   "outputs": [
    {
     "data": {
      "text/plain": [
       "array([1., 1., 1., 1., 1., 1., 0., 1., 1., 1., 0., 1., 0., 1., 1., 1.])"
      ]
     },
     "execution_count": 28,
     "metadata": {},
     "output_type": "execute_result"
    }
   ],
   "source": [
    "data_set = np.loadtxt(\"../data_classification.csv\", delimiter=\",\")\n",
    "X = data_set[:, :2]\n",
    "y = data_set[:, 2]\n",
    "X_train_val, X_test, y_train_val,  y_test = train_test_split(X, y, test_size=0.2)\n",
    "X_train, X_val, y_train, y_val =  train_test_split(X_train_val, y_train_val, test_size=0.2)\n"
   ]
  },
  {
   "cell_type": "code",
   "execution_count": null,
   "id": "fd5bf3dd-97b7-4784-8e81-8620a82b8f7f",
   "metadata": {},
   "outputs": [],
   "source": [
    "def sigmoid(X, w):\n",
    "    exp = exp(X.)"
   ]
  },
  {
   "cell_type": "code",
   "execution_count": 8,
   "id": "c47600b5-bc26-4ad7-8010-a2a25b3dd37d",
   "metadata": {},
   "outputs": [],
   "source": [
    "models = keras.Sequential()\n",
    "models.add(keras.layers.Dense(8))\n",
    "models.add(keras.layers.Dense(8))\n",
    "models.add(keras.layers.Dense(1))\n",
    "\n",
    "models.fit()"
   ]
  }
 ],
 "metadata": {
  "kernelspec": {
   "display_name": "Python 3",
   "language": "python",
   "name": "python3"
  },
  "language_info": {
   "codemirror_mode": {
    "name": "ipython",
    "version": 3
   },
   "file_extension": ".py",
   "mimetype": "text/x-python",
   "name": "python",
   "nbconvert_exporter": "python",
   "pygments_lexer": "ipython3",
   "version": "3.9.6"
  }
 },
 "nbformat": 4,
 "nbformat_minor": 5
}
