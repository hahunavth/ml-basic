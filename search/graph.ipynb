{
 "cells": [
  {
   "cell_type": "code",
   "execution_count": 1,
   "id": "a936b7f2-5dca-4c87-8474-932a72402e67",
   "metadata": {},
   "outputs": [],
   "source": [
    "# Add a vertex to the dictionary\n",
    "def add_vertex(v):\n",
    "  global graph\n",
    "  global vertices_no\n",
    "  if v in graph:\n",
    "    print(\"Vertex \", v, \" already exists.\")\n",
    "  else:\n",
    "    vertices_no = vertices_no + 1\n",
    "    graph[v] = []\n",
    "\n",
    "# Add an edge between vertex v1 and v2 with edge weight e\n",
    "def add_edge(v1, v2, e):\n",
    "  global graph\n",
    "  # Check if vertex v1 is a valid vertex\n",
    "  if v1 not in graph:\n",
    "    print(\"Vertex \", v1, \" does not exist.\")\n",
    "  # Check if vertex v2 is a valid vertex\n",
    "  elif v2 not in graph:\n",
    "    print(\"Vertex \", v2, \" does not exist.\")\n",
    "  else:\n",
    "    # Since this code is not restricted to a directed or \n",
    "    # an undirected graph, an edge between v1 v2 does not\n",
    "    # imply that an edge exists between v2 and v1\n",
    "    temp = [v2, e]\n",
    "    graph[v1].append(temp)\n",
    "\n",
    "# Print the graph\n",
    "def print_graph():\n",
    "  global graph\n",
    "  for vertex in graph:\n",
    "    for edges in graph[vertex]:\n",
    "      print(vertex, \" -> \", edges[0], \" edge weight: \", edges[1])\n"
   ]
  },
  {
   "cell_type": "code",
   "execution_count": 2,
   "id": "9d0cb378-96c5-4c6b-94fd-4653b7002345",
   "metadata": {},
   "outputs": [
    {
     "name": "stdout",
     "output_type": "stream",
     "text": [
      "1  ->  2  edge weight:  1\n",
      "1  ->  3  edge weight:  1\n",
      "2  ->  3  edge weight:  3\n",
      "3  ->  4  edge weight:  4\n",
      "4  ->  1  edge weight:  5\n",
      "Internal representation:  {1: [[2, 1], [3, 1]], 2: [[3, 3]], 3: [[4, 4]], 4: [[1, 5]]}\n"
     ]
    }
   ],
   "source": [
    "# driver code\n",
    "graph = {}\n",
    "# stores the number of vertices in the graph\n",
    "vertices_no = 0\n",
    "add_vertex(1)\n",
    "add_vertex(2)\n",
    "add_vertex(3)\n",
    "add_vertex(4)\n",
    "# Add the edges between the vertices by specifying\n",
    "# the from and to vertex along with the edge weights.\n",
    "add_edge(1, 2, 1)\n",
    "add_edge(1, 3, 1)\n",
    "add_edge(2, 3, 3)\n",
    "add_edge(3, 4, 4)\n",
    "add_edge(4, 1, 5)\n",
    "print_graph()\n",
    "# Reminder: the second element of each list inside the dictionary\n",
    "# denotes the edge weight.\n",
    "print (\"Internal representation: \", graph)"
   ]
  },
  {
   "cell_type": "code",
   "execution_count": 48,
   "id": "3018482f-89ef-40ec-ab1d-f5688ae04dea",
   "metadata": {},
   "outputs": [
    {
     "data": {
      "text/plain": [
       "[[2, 1], [3, 1]]"
      ]
     },
     "execution_count": 48,
     "metadata": {},
     "output_type": "execute_result"
    }
   ],
   "source": [
    "def selection_sort_edge_list (A):\n",
    "    # Traverse through all array elements\n",
    "    for i in range(len(A)):\n",
    "        # Find the minimum element in remaining \n",
    "        # unsorted array\n",
    "        min_idx = i\n",
    "        for j in range(i+1, len(A)):\n",
    "            if A[min_idx][1] > A[j][1]:\n",
    "                min_idx = j\n",
    "        # Swap the found minimum element with \n",
    "        # the first element        \n",
    "        A[i], A[min_idx] = A[min_idx], A[i]\n",
    "\n",
    "\n",
    "def get_edges_by_from (v1):\n",
    "    if(v1 < len(graph)):\n",
    "        # return selection_sort_edge_list(graph[v1])\n",
    "        return graph[v1]\n",
    "    return None\n",
    "\n",
    "def get_edges_by_to (v2):\n",
    "    list = []\n",
    "    for v in graph:\n",
    "        for e in graph[v]:\n",
    "            if(e[0] == v2):\n",
    "                list.append(e)\n",
    "    return list\n",
    "\n",
    "# get neighborhood\n",
    "get_edges_by_from(1)\n",
    "# get_edges_by_to(1)\n",
    "\n",
    "# def get_nearest_neighborhood (v1):\n",
    "#     list = get_edges_by_from(v1)\n",
    "#     nearest_neighborhood = None\n",
    "#     min_distance = 1000000000\n",
    "#     # if(list):\n",
    "#     #     for i in list:\n",
    "#     #         if(i[1] < min_distance):\n",
    "#     #             min_distance = i[1]\n",
    "#     #             nearest_neighborhood = i[0]\n",
    "#     #     return nearest_neighborhood\n",
    "#     return None\n",
    "        \n",
    "# print(graph)\n",
    "# get_nearest_neighborhood(2)\n"
   ]
  },
  {
   "cell_type": "code",
   "execution_count": null,
   "id": "d1af3634-0f8f-4937-973a-215d946f5426",
   "metadata": {},
   "outputs": [],
   "source": [
    "def greedy (v_start, v_end):\n",
    "    return\n",
    "\n"
   ]
  }
 ],
 "metadata": {
  "kernelspec": {
   "display_name": "Python 3 (ipykernel)",
   "language": "python",
   "name": "python3"
  },
  "language_info": {
   "codemirror_mode": {
    "name": "ipython",
    "version": 3
   },
   "file_extension": ".py",
   "mimetype": "text/x-python",
   "name": "python",
   "nbconvert_exporter": "python",
   "pygments_lexer": "ipython3",
   "version": "3.9.7"
  }
 },
 "nbformat": 4,
 "nbformat_minor": 5
}
