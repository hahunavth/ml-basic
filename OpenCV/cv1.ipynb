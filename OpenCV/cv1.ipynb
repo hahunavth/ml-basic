{
 "cells": [
  {
   "cell_type": "code",
   "execution_count": 27,
   "id": "966edcc8-3891-4039-9003-23e3358445c6",
   "metadata": {},
   "outputs": [],
   "source": [
    "import cv2"
   ]
  },
  {
   "cell_type": "raw",
   "id": "90ce4174-490f-4dec-8357-ac605fa12da0",
   "metadata": {},
   "source": [
    "# Read img\n",
    "# im1 = cv2.imread(\"./img/Screenshot from 2021-04-19 11-36-11.png\", cv2.IMREAD_IGNORE_ORIENTATION)\n",
    "im1 = cv2.imread(\"./img/Screenshot from 2021-04-19 11-36-11.png\", cv2.IMREAD_IGNORE_ORIENTATION)"
   ]
  },
  {
   "cell_type": "code",
   "execution_count": 23,
   "id": "81829ab8-8e4b-4c1a-b449-5a3518cbe6ad",
   "metadata": {},
   "outputs": [],
   "source": [
    "# show img\n",
    "\n",
    "im1 = cv2.imread(\"./img/Screenshot from 2021-04-19 11-36-11.png\")\n",
    "\n",
    "cv2.imshow(\"anh 1\", im1)\n",
    "cv2.waitKey(1000)\n",
    "cv2.destroyAllWindows()"
   ]
  },
  {
   "cell_type": "code",
   "execution_count": 28,
   "id": "02e013b5-24ab-4393-9fd6-6dd82cf27d94",
   "metadata": {},
   "outputs": [],
   "source": [
    "# use webcam\n",
    "camera_id = 1\n",
    "cap = cv2.VideoCapture(camera_id)\n",
    "\n",
    "while True:\n",
    "    ret, frame = cap.read()\n",
    "    cv2.imshow(\"Cam 0\", frame)\n",
    "\n",
    "    if cv2.waitKey(1) == 27 :\n",
    "        break\n",
    "\n",
    "cap.release()\n",
    "cv2.destroyAllWindows()"
   ]
  },
  {
   "cell_type": "code",
   "execution_count": 35,
   "id": "81540550-b370-47ec-a997-16e16e76cf33",
   "metadata": {},
   "outputs": [],
   "source": [
    "cap.release()"
   ]
  },
  {
   "cell_type": "code",
   "execution_count": null,
   "id": "a21a7c02-d67f-45d2-ae53-edb22cc19069",
   "metadata": {},
   "outputs": [],
   "source": []
  }
 ],
 "metadata": {
  "kernelspec": {
   "display_name": "Python 3",
   "language": "python",
   "name": "python3"
  },
  "language_info": {
   "codemirror_mode": {
    "name": "ipython",
    "version": 3
   },
   "file_extension": ".py",
   "mimetype": "text/x-python",
   "name": "python",
   "nbconvert_exporter": "python",
   "pygments_lexer": "ipython3",
   "version": "3.9.6"
  }
 },
 "nbformat": 4,
 "nbformat_minor": 5
}
