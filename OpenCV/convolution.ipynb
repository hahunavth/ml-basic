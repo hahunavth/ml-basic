{
 "cells": [
  {
   "cell_type": "code",
   "execution_count": 17,
   "metadata": {},
   "outputs": [],
   "source": [
    "import cv2\n",
    "import numpy as np"
   ]
  },
  {
   "cell_type": "code",
   "execution_count": null,
   "metadata": {},
   "outputs": [],
   "source": [
    "def convolve(image, kernel):\n",
    "    "
   ]
  },
  {
   "cell_type": "code",
   "execution_count": 43,
   "metadata": {},
   "outputs": [],
   "source": [
    "# show img\n",
    "\n",
    "im1 = cv2.imread(\"./img/france.jpeg\")\n",
    "# im1.view()\n",
    " \n",
    "# Apply identity kernel\n",
    "kernel1 = np.array([[0, -1, 0],\n",
    "                    [-1, 4, -1],\n",
    "                    [0, -1, 0]])\n",
    "kernel1 = kernel1 \n",
    " \n",
    "identity = cv2.filter2D(src=im1, ddepth=-1, kernel=kernel1)\n",
    "\n",
    "cv2.imshow(\"Helo\", identity)\n",
    "# cv2.imshow(\"anh 1\", im1.view)\n",
    "cv2.waitKey(10000)\n",
    "cv2.destroyAllWindows()"
   ]
  }
 ],
 "metadata": {
  "kernelspec": {
   "display_name": "Python 3 (ipykernel)",
   "language": "python",
   "name": "python3"
  },
  "language_info": {
   "codemirror_mode": {
    "name": "ipython",
    "version": 3
   },
   "file_extension": ".py",
   "mimetype": "text/x-python",
   "name": "python",
   "nbconvert_exporter": "python",
   "pygments_lexer": "ipython3",
   "version": "3.9.7"
  },
  "orig_nbformat": 4
 },
 "nbformat": 4,
 "nbformat_minor": 2
}
