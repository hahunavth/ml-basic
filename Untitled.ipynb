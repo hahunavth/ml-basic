{
 "cells": [
  {
   "cell_type": "code",
   "execution_count": 4,
   "id": "6f73537f-5c35-4315-8ebf-510c1934be75",
   "metadata": {},
   "outputs": [
    {
     "name": "stdout",
     "output_type": "stream",
     "text": [
      "/home/kryo/.jupyter/nbconfig/notebook.json\n"
     ]
    },
    {
     "data": {
      "text/plain": [
       "'o'"
      ]
     },
     "execution_count": 4,
     "metadata": {},
     "output_type": "execute_result"
    }
   ],
   "source": [
    "from jupyter_core.paths import jupyter_config_dir\n",
    "import os.path\n",
    "fname = os.path.join(jupyter_config_dir(), 'nbconfig/notebook.json')\n",
    "print(fname)\n",
    "fname[1]\n",
    "fname[3]\n",
    "fname[2]"
   ]
  }
 ],
 "metadata": {
  "kernelspec": {
   "display_name": "Python 3",
   "language": "python",
   "name": "python3"
  },
  "language_info": {
   "codemirror_mode": {
    "name": "ipython",
    "version": 3
   },
   "file_extension": ".py",
   "mimetype": "text/x-python",
   "name": "python",
   "nbconvert_exporter": "python",
   "pygments_lexer": "ipython3",
   "version": "3.9.5"
  }
 },
 "nbformat": 4,
 "nbformat_minor": 5
}
